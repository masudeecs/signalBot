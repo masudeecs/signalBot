{
 "cells": [
  {
   "cell_type": "code",
   "execution_count": 1,
   "id": "3b29c5a5-d8ba-4ec2-8ed3-0e40b53c7995",
   "metadata": {},
   "outputs": [
    {
     "data": {
      "text/plain": [
       "True"
      ]
     },
     "execution_count": 1,
     "metadata": {},
     "output_type": "execute_result"
    }
   ],
   "source": [
    "import os \n",
    "from dotenv import load_dotenv, find_dotenv\n",
    "\n",
    "load_dotenv(find_dotenv(), override=True)"
   ]
  },
  {
   "cell_type": "code",
   "execution_count": 2,
   "id": "c82b90ff-9aeb-4edc-8f1d-6e2fdc17ff33",
   "metadata": {},
   "outputs": [],
   "source": [
    "# https://api.python.langchain.com/en/latest/community_api_reference.html#module-langchain_community.document_loaders\n",
    "def load_document(file):\n",
    "    import os\n",
    "    name, extension = os.path.splitext(file)\n",
    "\n",
    "    if extension == '.pdf':\n",
    "        from langchain_community.document_loaders import PyPDFLoader\n",
    "        print(f'Loading {file}')\n",
    "        loader = PyPDFLoader(file)\n",
    "    elif extension == '.docx':\n",
    "        from langchain_community.document_loaders import Docx2txtLoader\n",
    "        print(f'Loading {file}')\n",
    "        loader = Docx2txtLoader(file)\n",
    "    elif extension == '.txt':\n",
    "        from langchain_community.document_loaders import TextLoader\n",
    "        print(f'Loading {file}')\n",
    "        loader = TextLoader(file)\n",
    "    else:\n",
    "        print('Document format is not supported!')\n",
    "        return None\n",
    "\n",
    "    data = loader.load()\n",
    "    return data"
   ]
  },
  {
   "cell_type": "code",
   "execution_count": 4,
   "id": "99513091-dd90-471e-9260-735389588095",
   "metadata": {},
   "outputs": [],
   "source": [
    "def load_webdocument():\n",
    "    from langchain_community.document_loaders import WebBaseLoader\n",
    "    loader = WebBaseLoader(\n",
    "        web_paths=[\n",
    "            \"https://www.tutorialspoint.com/signals_and_systems/signals_and_systems_overview.htm\",\n",
    "            \"https://www.tutorialspoint.com/signals_and_systems/signals_basic_types.htm\",\n",
    "            \"https://www.tutorialspoint.com/signals_and_systems/signals_classification.htm\",\n",
    "            \"https://www.tutorialspoint.com/signals_and_systems/signals_basic_operations.htm\",\n",
    "            \"https://www.tutorialspoint.com/signals_and_systems/systems_classification.htm\",\n",
    "            \"https://www.tutorialspoint.com/signals_and_systems/signals_analysis.htm\",\n",
    "            \"https://www.tutorialspoint.com/signals_and_systems/fourier_series.htm\",\n",
    "            \"https://www.tutorialspoint.com/signals_and_systems/fourier_series_properties.htm\",\n",
    "            \"https://www.tutorialspoint.com/signals_and_systems/fourier_series_types.htm\",\n",
    "            \"https://www.tutorialspoint.com/signals_and_systems/fourier_transforms.htm\",\n",
    "            \"https://www.tutorialspoint.com/signals_and_systems/fourier_transforms_properties.htm\",\n",
    "            \"https://www.tutorialspoint.com/signals_and_systems/distortion_less_transmission.htm\",\n",
    "            \"https://www.tutorialspoint.com/signals_and_systems/hilbert_transform.htm\",\n",
    "            \"https://www.tutorialspoint.com/signals_and_systems/convolution_and_correlation.htm\",\n",
    "            \"https://www.tutorialspoint.com/signals_and_systems/signals_sampling_theorem.htm\",\n",
    "            \"https://www.tutorialspoint.com/signals_and_systems/signals_sampling_techniques.htm\",\n",
    "            \"https://www.tutorialspoint.com/signals_and_systems/laplace_transforms.htm\",\n",
    "            \"https://www.tutorialspoint.com/signals_and_systems/laplace_transforms_properties.htm\",\n",
    "            \"https://www.tutorialspoint.com/signals_and_systems/region_of_convergence.htm\",\n",
    "            \"https://www.tutorialspoint.com/signals_and_systems/z_transforms.htm\",\n",
    "            \"https://www.tutorialspoint.com/signals_and_systems/z_transforms_properties.htm\"\n",
    "        ],\n",
    "        requests_per_second = 1\n",
    "    )\n",
    "    data = loader.load()\n",
    "    return data"
   ]
  },
  {
   "cell_type": "code",
   "execution_count": 5,
   "id": "aa44f3ff-b7db-415e-994f-ebc9e443f768",
   "metadata": {},
   "outputs": [],
   "source": [
    "# https://api.python.langchain.com/en/latest/langchain_api_reference.html#module-langchain.text_splitter\n",
    "def chunk_data(data, chunk_size=512, chunk_overlap=50):\n",
    "    # from langchain.text_splitter import MarkdownTextSplitter\n",
    "    # from langchain.text_splitter import CharacterTextSplitter\n",
    "    from langchain.text_splitter import RecursiveCharacterTextSplitter\n",
    "\n",
    "    text_splitter = RecursiveCharacterTextSplitter(\n",
    "        chunk_size=chunk_size, \n",
    "        chunk_overlap=chunk_overlap,\n",
    "        separators=[\"\\n\\n\", \"\\n\", \"\\. \", \" \", \"\"]\n",
    "    )\n",
    "    chunks = text_splitter.split_documents(data)\n",
    "    return chunks"
   ]
  },
  {
   "cell_type": "code",
   "execution_count": 5,
   "id": "397c10f4-61aa-4da5-a014-a44b3bd4eddb",
   "metadata": {},
   "outputs": [],
   "source": [
    "def print_embedding_cost(texts):\n",
    "    from tiktoken import encoding_for_model\n",
    "    enc = encoding_for_model('text-embedding-ada-002')\n",
    "    total_tokens = sum([len(enc.encode(page.page_content)) for page in texts])\n",
    "    print(f'Total Tokens: {total_tokens}')\n",
    "    print(f'Embedding Cost in USD: {total_tokens / 1000 * 0.0004:.6f}')"
   ]
  },
  {
   "cell_type": "code",
   "execution_count": 6,
   "id": "2cc69e0d-9fe8-4437-805f-3de4d74124f2",
   "metadata": {},
   "outputs": [],
   "source": [
    "# https://api.python.langchain.com/en/latest/vectorstores/langchain_pinecone.vectorstores.Pinecone.html#langchain_pinecone.vectorstores.Pinecone\n",
    "def pinecone_insert_or_fetch_embeddings(index_name, data):\n",
    "    from pinecone import Pinecone, PodSpec\n",
    "    from pinecone import list_indexes, create_index\n",
    "    from langchain_openai import OpenAIEmbeddings\n",
    "    from langchain_pinecone import Pinecone as langpine\n",
    "\n",
    "    embeddings = OpenAIEmbeddings()\n",
    "    # initialize pinecone\n",
    "    pc = Pinecone(api_key=os.environ.get('PINECONE_API_KEY'))\n",
    "\n",
    "    if index_name in pc.list_indexes():\n",
    "        print(f'Index {index_name} already exists. Loading embeddings ...', end='')\n",
    "        vector_store = langpine.from_existing_index(index_name, embeddings)\n",
    "        print('Ok')\n",
    "    else:\n",
    "        print(f'Creating index {index_name} and embeddings ...', end='')\n",
    "        pc.create_index(\n",
    "            name=index_name,\n",
    "            dimension=1536,\n",
    "            metric=\"cosine\",\n",
    "            spec=PodSpec(\n",
    "                environment=\"gcp-starter\"\n",
    "            )\n",
    "        )\n",
    "        vector_store = langpine.from_documents(data, embeddings, index_name=index_name)\n",
    "        print('Ok')\n",
    "    return vector_store"
   ]
  },
  {
   "cell_type": "code",
   "execution_count": 7,
   "id": "f45d4515-db36-41ae-8e2c-76743de7a234",
   "metadata": {},
   "outputs": [],
   "source": [
    "def delete_pinecone_index(index_name='all'):\n",
    "    from pinecone import list_indexes, delete_index, Pinecone\n",
    "    \n",
    "    pc = Pinecone(api_key=os.environ.get('PINECONE_API_KEY'))\n",
    "\n",
    "    if index_name == 'all':\n",
    "        indexes = list_indexes()\n",
    "        print('Deleting all indexes ... ')\n",
    "        for index in indexes:\n",
    "            delete_index(index)\n",
    "        print('Ok')\n",
    "    else:\n",
    "        print(f'Deleting index {index_name} ... ', end='')\n",
    "        delete_index(index_name)"
   ]
  },
  {
   "cell_type": "code",
   "execution_count": 9,
   "id": "d964420d-29b3-4ea8-bb09-263bb1b2a298",
   "metadata": {},
   "outputs": [],
   "source": [
    "# https://api.python.langchain.com/en/latest/vectorstores/langchain_community.vectorstores.chroma.Chroma.html#langchain_community.vectorstores.chroma.Chroma\n",
    "def chroma_insert_or_fetch_embeddings(index_name, data):\n",
    "    # from langchain_community.vectorstores import Chroma\n",
    "    from langchain_chroma import Chroma\n",
    "    from langchain_openai import OpenAIEmbeddings\n",
    "    from chromadb import PersistentClient\n",
    "    from pathlib import Path\n",
    "    \n",
    "    # dir_path = os.path.dirname(os.path.realpath('__file__'))\n",
    "    # # dir_path = os.path.dirname(__file__)\n",
    "    # persist_directory = f'{dir_path}/cache'\n",
    "    # persist_directory = Path(f'{dir_path}/cache')\n",
    "    \n",
    "    embeddings = OpenAIEmbeddings()\n",
    "    # client = PersistentClient(path=persist_directory)\n",
    "    # if index_name in client.list_collections():\n",
    "    #     print(f'Index {index_name} already exists. Loading embeddings ...', end='')\n",
    "    #     vector_store = client.get_collection(name={index_name})\n",
    "    #     print('Ok')\n",
    "    # else:\n",
    "    #     print(f'Creating index {index_name} and embeddings ...', end='')\n",
    "        # client.create_collection(name=index_name, embedding_function=embeddings)\n",
    "        # vector_store = Chroma.from_documents(collection_name=index_name, documents=data, embedding=embeddings, persist_directory=persist_directory)\n",
    "    # vector_store = Chroma.from_documents(collection_name=index_name, documents=data, \n",
    "    #                 embedding=embeddings, persist_directory='tutorials', collection_metadata={\"hnsw:space\": \"cosine\"})\n",
    "    vector_store = Chroma.from_documents(data, embeddings, persist_directory=\"./tutorials_db\")\n",
    "    print('Ok')\n",
    "    return vector_store"
   ]
  },
  {
   "cell_type": "code",
   "execution_count": 8,
   "id": "be815d03-21f4-42e1-b572-ef5cb0d966ca",
   "metadata": {},
   "outputs": [
    {
     "name": "stdout",
     "output_type": "stream",
     "text": [
      "C:\\Users\\ASUS\\Desktop\\langchain\\cache\n"
     ]
    }
   ],
   "source": [
    "from pathlib import Path\n",
    "dir_path = os.path.dirname(os.path.realpath('__file__'))\n",
    "persist_directory = Path(f'{dir_path}/cache')\n",
    "print(persist_directory)"
   ]
  },
  {
   "cell_type": "code",
   "execution_count": 11,
   "id": "6dc441fc-ee8d-4812-8c02-764d1d16a88c",
   "metadata": {},
   "outputs": [],
   "source": [
    "def delete_chroma_collection(vectordb):\n",
    "    vectordb.delete_collection()\n",
    "    vectordb.persist()"
   ]
  },
  {
   "cell_type": "code",
   "execution_count": 10,
   "id": "a6082f4a-9407-43fc-adc9-261473c3ce61",
   "metadata": {},
   "outputs": [],
   "source": [
    "def ask_and_get_answer(vector_store, q):\n",
    "    from langchain.chains import RetrievalQA\n",
    "    from langchain_openai import ChatOpenAI\n",
    "\n",
    "    llm = ChatOpenAI(openai_api_key=os.environ.get('OPENAI_API_KEY'), model='gpt-3.5-turbo', temperature=0)\n",
    "    retriever = vector_store.as_retriever(search_type='similarity', search_kwargs={'k': 3})\n",
    "\n",
    "    chain= RetrievalQA.from_chain_type(llm=llm, chain_type='stuff', retriever=retriever)\n",
    "    \n",
    "    answer = chain.run(q)\n",
    "    return answer"
   ]
  },
  {
   "cell_type": "code",
   "execution_count": 42,
   "id": "36d135bd-8d7a-47e5-a9d8-1c43b5260293",
   "metadata": {},
   "outputs": [],
   "source": [
    "def ask_with_memory_old(vector_store, question, chat_history=[]):\n",
    "    from langchain.chains import ConversationalRetrievalChain\n",
    "    from langchain_openai import ChatOpenAI\n",
    "    from langchain_core.prompts import ChatPromptTemplate\n",
    "    from langchain.prompts import HumanMessagePromptTemplate, SystemMessagePromptTemplate\n",
    "    from langchain_core.messages import SystemMessage\n",
    "\n",
    "    llm = ChatOpenAI(openai_api_key=os.environ.get('OPENAI_API_KEY'), model='gpt-3.5-turbo', temperature=0)\n",
    "\n",
    "    chat_template = ChatPromptTemplate.from_messages(\n",
    "        [\n",
    "            SystemMessage(\n",
    "                content=(\n",
    "                    \"\"\"\n",
    "                        You are a Artificial Intelligence Tutor of Signal ans System subject.\n",
    "                        You task is to help student to understand Signal ans System subject concept \n",
    "                        and help them to solve problem step by step. You should not solve the problem directly,\n",
    "                        rather you help them to learn and solve the problem gradually and also make sure that \n",
    "                        your response are in latex.\n",
    "                    \"\"\"\n",
    "                )\n",
    "            ),\n",
    "            HumanMessagePromptTemplate.from_template(\"{text}\"),\n",
    "        ]\n",
    "    )\n",
    "    sys_prompt = chat_template.format_messages(text=question)\n",
    "    print(sys_prompt)\n",
    "    \n",
    "    retriever = vector_store.as_retriever(search_type='similarity',search_kwargs={'k': 3})\n",
    "\n",
    "    crc = ConversationalRetrievalChain.from_llm(\n",
    "        llm,\n",
    "        retriever=retriever,\n",
    "        return_source_documents=True,\n",
    "        verbose=True,\n",
    "        condense_question_llm=llm,\n",
    "        chain_type=\"stuff\",\n",
    "        combine_docs_chain_kwargs={\"prompt\": sys_prompt}\n",
    "    )\n",
    "    # crc.combine_docs_chain.llm_chain.prompt.messages[0] = SystemMessagePromptTemplate.from_template(sys_prompt)\n",
    "    result = crc({'question': question, 'chat_history': chat_history})\n",
    "    chat_history.append((question, result['answer']))\n",
    "    \n",
    "    return result, chat_history"
   ]
  },
  {
   "cell_type": "code",
   "execution_count": 9,
   "id": "4582c306-3cdd-4f64-a644-7b55bf28e206",
   "metadata": {},
   "outputs": [],
   "source": [
    "# https://github.com/langchain-ai/langchain/issues/5462\n",
    "def ask_with_memory(vector_store, question, chat_history=[]):\n",
    "    from langchain.chains import ConversationalRetrievalChain\n",
    "    from langchain_openai import ChatOpenAI\n",
    "    from langchain_core.prompts import ChatPromptTemplate\n",
    "    from langchain.prompts import HumanMessagePromptTemplate, SystemMessagePromptTemplate\n",
    "    from langchain_core.messages import SystemMessage\n",
    "    \n",
    "    llm = ChatOpenAI(openai_api_key=os.environ.get('OPENAI_API_KEY'), model='gpt-3.5-turbo', temperature=0)\n",
    "    # Define the system message template\n",
    "    system_template = \"\"\"\n",
    "            You are a Artificial Intelligence Tutor of Signal ans System subject.\n",
    "            You task is to help student to understand Signal ans System subject concept \n",
    "            and help them to solve problem step by step. You should not solve the problem directly,\n",
    "            rather you help them to learn and solve the problem gradually and also make sure that \n",
    "            your response are in latex. If you cannot find the answer from the pieces of context, \n",
    "            just say that you don't know, don't try to make up an answer.\n",
    "            -------------------------------------------\n",
    "            {context}\n",
    "        \"\"\"\n",
    "\n",
    "    # Create the chat prompt templates\n",
    "    messages = [\n",
    "        SystemMessagePromptTemplate.from_template(system_template),\n",
    "        HumanMessagePromptTemplate.from_template(\"{question}\")\n",
    "    ]\n",
    "    qa_prompt = ChatPromptTemplate.from_messages(messages)\n",
    "    \n",
    "    retriever = vector_store.as_retriever(search_type='similarity', search_kwargs={'k': 3})\n",
    "    crc = ConversationalRetrievalChain.from_llm(\n",
    "        llm=llm, \n",
    "        retriever=retriever, \n",
    "        # verbose=True,\n",
    "        return_source_documents=True, \n",
    "        combine_docs_chain_kwargs={\"prompt\": qa_prompt}\n",
    "    )\n",
    "    \n",
    "    result = crc({'question': question, 'chat_history': chat_history})\n",
    "    chat_history.append((question, result['answer']))\n",
    "    \n",
    "    return result, chat_history"
   ]
  },
  {
   "cell_type": "markdown",
   "id": "accf1b04-5c34-443f-94c6-0d532b89e940",
   "metadata": {},
   "source": [
    "## Running Code"
   ]
  },
  {
   "cell_type": "code",
   "execution_count": 3,
   "id": "815af623-82fd-4b71-bfcd-6b5d833f115e",
   "metadata": {},
   "outputs": [
    {
     "name": "stdout",
     "output_type": "stream",
     "text": [
      "Loading page_4-8.pdf\n",
      "You have 5 pages in your data.\n"
     ]
    }
   ],
   "source": [
    "data = load_document('page_4-8.pdf')\n",
    "# print(data[1].page_content)\n",
    "# print(data[1].metadata)\n",
    "\n",
    "print(f'You have {len(data)} pages in your data.')\n",
    "# print(f'There are {len(data[20].page_content)} chracters in the page.')"
   ]
  },
  {
   "cell_type": "code",
   "execution_count": 4,
   "id": "db7f888b-d818-4dd5-8fdb-ba9e651ac672",
   "metadata": {
    "scrolled": true
   },
   "outputs": [
    {
     "name": "stdout",
     "output_type": "stream",
     "text": [
      " 5 R e { }|| c o s ( ) , I m { } || s i n ( )ac c c bc c c== ∠== ∠  \n",
      "Note especially that the quadrant ambiguity of th e inverse tangent must be resolved in making \n",
      "these computations. For example, \n",
      " 1(1 ) tan ( 1 / 1) / 4j π−∠− = − = −  \n",
      "while \n",
      " 1(1 ) t a n ( 1 / (1 ) ) 3 / 4 j π−∠−+ = − =  \n",
      "It is important to be able to mentally comput e the sine, cosine, and tangent of angles that are \n",
      "integer multiples of /4π , since many problems will be set up this way to avoid the distraction of \n",
      "calculators. \n",
      " \n",
      "You should also be familiar with Euler’s formula, \n",
      " cos( ) sin( )jejθθθ =+  \n",
      "and the complex exponential representa tion for trigonometric functions: \n",
      " cos( ) , sin( )22jj jjee ee\n",
      "jθθθ θ\n",
      "θθ−−+−==  \n",
      " \n",
      "Notions of complex numbers extend to notions of co mplex-valued functions (of a real variable) in \n",
      "the obvious way. For example, we can thi nk of a complex-valued function of time, ()xt, in the \n",
      "rectangular form \n",
      " {}{} () R e () I m ()xtx t j x t=+  \n",
      "In a simpler notation this can be written as \n",
      " () () ()RI xtx tj x t=+  \n",
      "where ()Rxt and ()Ixt are real-valued functions of t. \n",
      "Or we can consider polar form, \n",
      " ()() | () |jx txt xt e∠=  \n",
      "where |( ) |xt and ()xt∠  are real-valued functions of t (with, of course, |( ) |xt nonnegative for \n",
      "all t ). In terms of these forms, multiplication and addition of complex functions can be carried \n",
      "out in the obvious way, with polar form most convenient for multiplication and rectangular form \n",
      "most convenient for addition. \n",
      " \n",
      "In all cases, signals we encounter are functions of the real variable t. That is, while signals that \n",
      "are complex-valued functions of  t, or some other real variable, will arise as mathematical \n",
      "conveniences, we will not deal with functions of  a complex variable until near the end of the \n",
      "course. \n",
      " 0.3  Analysis Background  \n",
      " \n",
      "We will use the notation \n",
      "[]xn for a real or complex-valued sequence (discrete-time signal) \n",
      "defined for integer values of n. This notation is intended to emphasize the similarity of our \n",
      "treatment of functions of a continuous variable (time) and our treatment of sequences (in time). \n",
      "But use of the square brackets is intended to remi nd us that the similarity should not be overdone! \n",
      " \n",
      "Summation notation, for example, \n"
     ]
    }
   ],
   "source": [
    "print(data[1].page_content)"
   ]
  },
  {
   "cell_type": "code",
   "execution_count": 7,
   "id": "72c36246-5435-4a42-ae4e-a94399adb21e",
   "metadata": {},
   "outputs": [],
   "source": [
    "webdata = load_webdocument()\n",
    "# print(webdata[1].page_content)"
   ]
  },
  {
   "cell_type": "code",
   "execution_count": 55,
   "id": "0e79d133-590a-470f-8036-45234a5f8911",
   "metadata": {},
   "outputs": [],
   "source": [
    "with open(\"webdata.txt\", 'w', encoding='utf-8') as f:\n",
    "    f.writelines(webdata[1].page_content)"
   ]
  },
  {
   "cell_type": "code",
   "execution_count": 8,
   "id": "fb2c2af6-3cd4-4cb4-833f-24d6644b4ea0",
   "metadata": {},
   "outputs": [
    {
     "name": "stdout",
     "output_type": "stream",
     "text": [
      "561\n",
      "Previous\n",
      "   \n",
      "\n",
      "\n",
      "\n",
      "Next\n",
      "   \n",
      "\n",
      "\n",
      "\n",
      "\n",
      "\n",
      "What is Signal?\n",
      "Signal is a time varying physical phenomenon which is intended to convey information.\n",
      "OR\n",
      "Signal is a function of time.\n",
      "OR\n",
      "Signal is a function of one or more independent variables, which contain some information.\n",
      "Example: voice signal, video signal, signals on telephone wires etc.\n",
      "Note:  Noise is also a signal, but the information conveyed by noise is unwanted hence it is considered as undesirable.\n"
     ]
    }
   ],
   "source": [
    "# chunks = chunk_data(data, chunk_size=256, chunk_overlap=50)\n",
    "chunks= chunk_data(webdata)\n",
    "print(len(chunks))\n",
    "print(chunks[10].page_content)"
   ]
  },
  {
   "cell_type": "code",
   "execution_count": 13,
   "id": "7be35fe0-7ec7-4619-a71e-a1923e92463a",
   "metadata": {},
   "outputs": [
    {
     "name": "stdout",
     "output_type": "stream",
     "text": [
      "Total Tokens: 47406\n",
      "Embedding Cost in USD: 0.018962\n"
     ]
    }
   ],
   "source": [
    "print_embedding_cost(webdata)"
   ]
  },
  {
   "cell_type": "code",
   "execution_count": 10,
   "id": "c23ff37b-304d-4728-9027-5c338f9484b4",
   "metadata": {},
   "outputs": [
    {
     "name": "stdout",
     "output_type": "stream",
     "text": [
      "Ok\n"
     ]
    }
   ],
   "source": [
    "index_name = \"signal_system_index\"\n",
    "vector_store = chroma_insert_or_fetch_embeddings(index_name, chunks)\n",
    "# vector_store.persist()"
   ]
  },
  {
   "cell_type": "code",
   "execution_count": 15,
   "id": "9b3e2459-56dd-42de-b1a5-9af110f60fb8",
   "metadata": {},
   "outputs": [
    {
     "name": "stdout",
     "output_type": "stream",
     "text": [
      "Creating index signal_system_webdata and embeddings ..."
     ]
    },
    {
     "name": "stderr",
     "output_type": "stream",
     "text": [
      "Exception occurred invoking consumer for subscription 8b20df42965048d88e1f9d3e2c06260dto topic persistent://default/default/c72d63a8-1cdb-4d30-ba60-15aaa71eb627 init_index(): incompatible function arguments. The following argument types are supported:\n",
      "    1. (self: hnswlib.Index, max_elements: int, M: int = 16, ef_construction: int = 200, random_seed: int = 100, allow_replace_deleted: bool = False) -> None\n",
      "\n",
      "Invoked with: <hnswlib.Index(space='cosine', dim=1536)>; kwargs: max_elements=1000, ef_construction=100, M=16, is_persistent_index=True, persistence_location='webdb\\\\e11a882e-a3d6-4190-861c-aa2bd7bfad50'\n",
      "Exception occurred invoking consumer for subscription 8b20df42965048d88e1f9d3e2c06260dto topic persistent://default/default/c72d63a8-1cdb-4d30-ba60-15aaa71eb627 init_index(): incompatible function arguments. The following argument types are supported:\n",
      "    1. (self: hnswlib.Index, max_elements: int, M: int = 16, ef_construction: int = 200, random_seed: int = 100, allow_replace_deleted: bool = False) -> None\n",
      "\n",
      "Invoked with: <hnswlib.Index(space='cosine', dim=1536)>; kwargs: max_elements=1000, ef_construction=100, M=16, is_persistent_index=True, persistence_location='webdb\\\\e11a882e-a3d6-4190-861c-aa2bd7bfad50'\n",
      "Exception occurred invoking consumer for subscription 8b20df42965048d88e1f9d3e2c06260dto topic persistent://default/default/c72d63a8-1cdb-4d30-ba60-15aaa71eb627 init_index(): incompatible function arguments. The following argument types are supported:\n",
      "    1. (self: hnswlib.Index, max_elements: int, M: int = 16, ef_construction: int = 200, random_seed: int = 100, allow_replace_deleted: bool = False) -> None\n",
      "\n",
      "Invoked with: <hnswlib.Index(space='cosine', dim=1536)>; kwargs: max_elements=1000, ef_construction=100, M=16, is_persistent_index=True, persistence_location='webdb\\\\e11a882e-a3d6-4190-861c-aa2bd7bfad50'\n",
      "Exception occurred invoking consumer for subscription 8b20df42965048d88e1f9d3e2c06260dto topic persistent://default/default/c72d63a8-1cdb-4d30-ba60-15aaa71eb627 init_index(): incompatible function arguments. The following argument types are supported:\n",
      "    1. (self: hnswlib.Index, max_elements: int, M: int = 16, ef_construction: int = 200, random_seed: int = 100, allow_replace_deleted: bool = False) -> None\n",
      "\n",
      "Invoked with: <hnswlib.Index(space='cosine', dim=1536)>; kwargs: max_elements=1000, ef_construction=100, M=16, is_persistent_index=True, persistence_location='webdb\\\\e11a882e-a3d6-4190-861c-aa2bd7bfad50'\n",
      "Exception occurred invoking consumer for subscription 8b20df42965048d88e1f9d3e2c06260dto topic persistent://default/default/c72d63a8-1cdb-4d30-ba60-15aaa71eb627 init_index(): incompatible function arguments. The following argument types are supported:\n",
      "    1. (self: hnswlib.Index, max_elements: int, M: int = 16, ef_construction: int = 200, random_seed: int = 100, allow_replace_deleted: bool = False) -> None\n",
      "\n",
      "Invoked with: <hnswlib.Index(space='cosine', dim=1536)>; kwargs: max_elements=1000, ef_construction=100, M=16, is_persistent_index=True, persistence_location='webdb\\\\e11a882e-a3d6-4190-861c-aa2bd7bfad50'\n",
      "Exception occurred invoking consumer for subscription 8b20df42965048d88e1f9d3e2c06260dto topic persistent://default/default/c72d63a8-1cdb-4d30-ba60-15aaa71eb627 init_index(): incompatible function arguments. The following argument types are supported:\n",
      "    1. (self: hnswlib.Index, max_elements: int, M: int = 16, ef_construction: int = 200, random_seed: int = 100, allow_replace_deleted: bool = False) -> None\n",
      "\n",
      "Invoked with: <hnswlib.Index(space='cosine', dim=1536)>; kwargs: max_elements=1000, ef_construction=100, M=16, is_persistent_index=True, persistence_location='webdb\\\\e11a882e-a3d6-4190-861c-aa2bd7bfad50'\n",
      "Exception occurred invoking consumer for subscription 8b20df42965048d88e1f9d3e2c06260dto topic persistent://default/default/c72d63a8-1cdb-4d30-ba60-15aaa71eb627 init_index(): incompatible function arguments. The following argument types are supported:\n",
      "    1. (self: hnswlib.Index, max_elements: int, M: int = 16, ef_construction: int = 200, random_seed: int = 100, allow_replace_deleted: bool = False) -> None\n",
      "\n",
      "Invoked with: <hnswlib.Index(space='cosine', dim=1536)>; kwargs: max_elements=1000, ef_construction=100, M=16, is_persistent_index=True, persistence_location='webdb\\\\e11a882e-a3d6-4190-861c-aa2bd7bfad50'\n",
      "Exception occurred invoking consumer for subscription 8b20df42965048d88e1f9d3e2c06260dto topic persistent://default/default/c72d63a8-1cdb-4d30-ba60-15aaa71eb627 init_index(): incompatible function arguments. The following argument types are supported:\n",
      "    1. (self: hnswlib.Index, max_elements: int, M: int = 16, ef_construction: int = 200, random_seed: int = 100, allow_replace_deleted: bool = False) -> None\n",
      "\n",
      "Invoked with: <hnswlib.Index(space='cosine', dim=1536)>; kwargs: max_elements=1000, ef_construction=100, M=16, is_persistent_index=True, persistence_location='webdb\\\\e11a882e-a3d6-4190-861c-aa2bd7bfad50'\n",
      "Exception occurred invoking consumer for subscription 8b20df42965048d88e1f9d3e2c06260dto topic persistent://default/default/c72d63a8-1cdb-4d30-ba60-15aaa71eb627 init_index(): incompatible function arguments. The following argument types are supported:\n",
      "    1. (self: hnswlib.Index, max_elements: int, M: int = 16, ef_construction: int = 200, random_seed: int = 100, allow_replace_deleted: bool = False) -> None\n",
      "\n",
      "Invoked with: <hnswlib.Index(space='cosine', dim=1536)>; kwargs: max_elements=1000, ef_construction=100, M=16, is_persistent_index=True, persistence_location='webdb\\\\e11a882e-a3d6-4190-861c-aa2bd7bfad50'\n",
      "Exception occurred invoking consumer for subscription 8b20df42965048d88e1f9d3e2c06260dto topic persistent://default/default/c72d63a8-1cdb-4d30-ba60-15aaa71eb627 init_index(): incompatible function arguments. The following argument types are supported:\n",
      "    1. (self: hnswlib.Index, max_elements: int, M: int = 16, ef_construction: int = 200, random_seed: int = 100, allow_replace_deleted: bool = False) -> None\n",
      "\n",
      "Invoked with: <hnswlib.Index(space='cosine', dim=1536)>; kwargs: max_elements=1000, ef_construction=100, M=16, is_persistent_index=True, persistence_location='webdb\\\\e11a882e-a3d6-4190-861c-aa2bd7bfad50'\n",
      "Exception occurred invoking consumer for subscription 8b20df42965048d88e1f9d3e2c06260dto topic persistent://default/default/c72d63a8-1cdb-4d30-ba60-15aaa71eb627 init_index(): incompatible function arguments. The following argument types are supported:\n",
      "    1. (self: hnswlib.Index, max_elements: int, M: int = 16, ef_construction: int = 200, random_seed: int = 100, allow_replace_deleted: bool = False) -> None\n",
      "\n",
      "Invoked with: <hnswlib.Index(space='cosine', dim=1536)>; kwargs: max_elements=1000, ef_construction=100, M=16, is_persistent_index=True, persistence_location='webdb\\\\e11a882e-a3d6-4190-861c-aa2bd7bfad50'\n",
      "Exception occurred invoking consumer for subscription 8b20df42965048d88e1f9d3e2c06260dto topic persistent://default/default/c72d63a8-1cdb-4d30-ba60-15aaa71eb627 init_index(): incompatible function arguments. The following argument types are supported:\n",
      "    1. (self: hnswlib.Index, max_elements: int, M: int = 16, ef_construction: int = 200, random_seed: int = 100, allow_replace_deleted: bool = False) -> None\n",
      "\n",
      "Invoked with: <hnswlib.Index(space='cosine', dim=1536)>; kwargs: max_elements=1000, ef_construction=100, M=16, is_persistent_index=True, persistence_location='webdb\\\\e11a882e-a3d6-4190-861c-aa2bd7bfad50'\n",
      "Exception occurred invoking consumer for subscription 8b20df42965048d88e1f9d3e2c06260dto topic persistent://default/default/c72d63a8-1cdb-4d30-ba60-15aaa71eb627 init_index(): incompatible function arguments. The following argument types are supported:\n",
      "    1. (self: hnswlib.Index, max_elements: int, M: int = 16, ef_construction: int = 200, random_seed: int = 100, allow_replace_deleted: bool = False) -> None\n",
      "\n",
      "Invoked with: <hnswlib.Index(space='cosine', dim=1536)>; kwargs: max_elements=1000, ef_construction=100, M=16, is_persistent_index=True, persistence_location='webdb\\\\e11a882e-a3d6-4190-861c-aa2bd7bfad50'\n",
      "Exception occurred invoking consumer for subscription 8b20df42965048d88e1f9d3e2c06260dto topic persistent://default/default/c72d63a8-1cdb-4d30-ba60-15aaa71eb627 init_index(): incompatible function arguments. The following argument types are supported:\n",
      "    1. (self: hnswlib.Index, max_elements: int, M: int = 16, ef_construction: int = 200, random_seed: int = 100, allow_replace_deleted: bool = False) -> None\n",
      "\n",
      "Invoked with: <hnswlib.Index(space='cosine', dim=1536)>; kwargs: max_elements=1000, ef_construction=100, M=16, is_persistent_index=True, persistence_location='webdb\\\\e11a882e-a3d6-4190-861c-aa2bd7bfad50'\n",
      "Exception occurred invoking consumer for subscription 8b20df42965048d88e1f9d3e2c06260dto topic persistent://default/default/c72d63a8-1cdb-4d30-ba60-15aaa71eb627 init_index(): incompatible function arguments. The following argument types are supported:\n",
      "    1. (self: hnswlib.Index, max_elements: int, M: int = 16, ef_construction: int = 200, random_seed: int = 100, allow_replace_deleted: bool = False) -> None\n",
      "\n",
      "Invoked with: <hnswlib.Index(space='cosine', dim=1536)>; kwargs: max_elements=1000, ef_construction=100, M=16, is_persistent_index=True, persistence_location='webdb\\\\e11a882e-a3d6-4190-861c-aa2bd7bfad50'\n",
      "Exception occurred invoking consumer for subscription 8b20df42965048d88e1f9d3e2c06260dto topic persistent://default/default/c72d63a8-1cdb-4d30-ba60-15aaa71eb627 init_index(): incompatible function arguments. The following argument types are supported:\n",
      "    1. (self: hnswlib.Index, max_elements: int, M: int = 16, ef_construction: int = 200, random_seed: int = 100, allow_replace_deleted: bool = False) -> None\n",
      "\n",
      "Invoked with: <hnswlib.Index(space='cosine', dim=1536)>; kwargs: max_elements=1000, ef_construction=100, M=16, is_persistent_index=True, persistence_location='webdb\\\\e11a882e-a3d6-4190-861c-aa2bd7bfad50'\n",
      "Exception occurred invoking consumer for subscription 8b20df42965048d88e1f9d3e2c06260dto topic persistent://default/default/c72d63a8-1cdb-4d30-ba60-15aaa71eb627 init_index(): incompatible function arguments. The following argument types are supported:\n",
      "    1. (self: hnswlib.Index, max_elements: int, M: int = 16, ef_construction: int = 200, random_seed: int = 100, allow_replace_deleted: bool = False) -> None\n",
      "\n",
      "Invoked with: <hnswlib.Index(space='cosine', dim=1536)>; kwargs: max_elements=1000, ef_construction=100, M=16, is_persistent_index=True, persistence_location='webdb\\\\e11a882e-a3d6-4190-861c-aa2bd7bfad50'\n",
      "Exception occurred invoking consumer for subscription 8b20df42965048d88e1f9d3e2c06260dto topic persistent://default/default/c72d63a8-1cdb-4d30-ba60-15aaa71eb627 init_index(): incompatible function arguments. The following argument types are supported:\n",
      "    1. (self: hnswlib.Index, max_elements: int, M: int = 16, ef_construction: int = 200, random_seed: int = 100, allow_replace_deleted: bool = False) -> None\n",
      "\n",
      "Invoked with: <hnswlib.Index(space='cosine', dim=1536)>; kwargs: max_elements=1000, ef_construction=100, M=16, is_persistent_index=True, persistence_location='webdb\\\\e11a882e-a3d6-4190-861c-aa2bd7bfad50'\n",
      "Exception occurred invoking consumer for subscription 8b20df42965048d88e1f9d3e2c06260dto topic persistent://default/default/c72d63a8-1cdb-4d30-ba60-15aaa71eb627 init_index(): incompatible function arguments. The following argument types are supported:\n",
      "    1. (self: hnswlib.Index, max_elements: int, M: int = 16, ef_construction: int = 200, random_seed: int = 100, allow_replace_deleted: bool = False) -> None\n",
      "\n",
      "Invoked with: <hnswlib.Index(space='cosine', dim=1536)>; kwargs: max_elements=1000, ef_construction=100, M=16, is_persistent_index=True, persistence_location='webdb\\\\e11a882e-a3d6-4190-861c-aa2bd7bfad50'\n",
      "Exception occurred invoking consumer for subscription 8b20df42965048d88e1f9d3e2c06260dto topic persistent://default/default/c72d63a8-1cdb-4d30-ba60-15aaa71eb627 init_index(): incompatible function arguments. The following argument types are supported:\n",
      "    1. (self: hnswlib.Index, max_elements: int, M: int = 16, ef_construction: int = 200, random_seed: int = 100, allow_replace_deleted: bool = False) -> None\n",
      "\n",
      "Invoked with: <hnswlib.Index(space='cosine', dim=1536)>; kwargs: max_elements=1000, ef_construction=100, M=16, is_persistent_index=True, persistence_location='webdb\\\\e11a882e-a3d6-4190-861c-aa2bd7bfad50'\n",
      "Exception occurred invoking consumer for subscription 8b20df42965048d88e1f9d3e2c06260dto topic persistent://default/default/c72d63a8-1cdb-4d30-ba60-15aaa71eb627 init_index(): incompatible function arguments. The following argument types are supported:\n",
      "    1. (self: hnswlib.Index, max_elements: int, M: int = 16, ef_construction: int = 200, random_seed: int = 100, allow_replace_deleted: bool = False) -> None\n",
      "\n",
      "Invoked with: <hnswlib.Index(space='cosine', dim=1536)>; kwargs: max_elements=1000, ef_construction=100, M=16, is_persistent_index=True, persistence_location='webdb\\\\e11a882e-a3d6-4190-861c-aa2bd7bfad50'\n",
      "Exception occurred invoking consumer for subscription 8b20df42965048d88e1f9d3e2c06260dto topic persistent://default/default/c72d63a8-1cdb-4d30-ba60-15aaa71eb627 init_index(): incompatible function arguments. The following argument types are supported:\n",
      "    1. (self: hnswlib.Index, max_elements: int, M: int = 16, ef_construction: int = 200, random_seed: int = 100, allow_replace_deleted: bool = False) -> None\n",
      "\n",
      "Invoked with: <hnswlib.Index(space='cosine', dim=1536)>; kwargs: max_elements=1000, ef_construction=100, M=16, is_persistent_index=True, persistence_location='webdb\\\\e11a882e-a3d6-4190-861c-aa2bd7bfad50'\n"
     ]
    },
    {
     "name": "stdout",
     "output_type": "stream",
     "text": [
      "Ok\n"
     ]
    }
   ],
   "source": [
    "index_name = \"signal_system_webdata\"\n",
    "vector_store = chroma_insert_or_fetch_embeddings(index_name, webdata)"
   ]
  },
  {
   "cell_type": "code",
   "execution_count": 17,
   "id": "da23ade3-adbb-423a-b24f-ca42ce13c56f",
   "metadata": {},
   "outputs": [
    {
     "name": "stdout",
     "output_type": "stream",
     "text": [
      "tags=['Chroma', 'OpenAIEmbeddings'] vectorstore=<langchain_community.vectorstores.chroma.Chroma object at 0x000001A096AD6110> search_kwargs={'k': 3}\n"
     ]
    }
   ],
   "source": [
    "retriever = vector_store.as_retriever(search_type='similarity', search_kwargs={'k': 3})\n",
    "print(retriever)"
   ]
  },
  {
   "cell_type": "code",
   "execution_count": 18,
   "id": "dd2e2368-0d87-44cf-a5ff-d06aa629c1c6",
   "metadata": {},
   "outputs": [
    {
     "name": "stdout",
     "output_type": "stream",
     "text": [
      "Write Quit or Exit to quit.\n"
     ]
    },
    {
     "name": "stdout",
     "output_type": "stream",
     "text": [
      "Question #1:  give me one example of time invarient system?\n"
     ]
    },
    {
     "ename": "NameError",
     "evalue": "name 'ask_and_get_answer' is not defined",
     "output_type": "error",
     "traceback": [
      "\u001b[1;31m---------------------------------------------------------------------------\u001b[0m",
      "\u001b[1;31mNameError\u001b[0m                                 Traceback (most recent call last)",
      "Cell \u001b[1;32mIn[18], line 14\u001b[0m\n\u001b[0;32m     11\u001b[0m     time\u001b[38;5;241m.\u001b[39msleep(\u001b[38;5;241m2\u001b[39m)\n\u001b[0;32m     12\u001b[0m     \u001b[38;5;28;01mbreak\u001b[39;00m\n\u001b[1;32m---> 14\u001b[0m answer \u001b[38;5;241m=\u001b[39m \u001b[43mask_and_get_answer\u001b[49m(vector_store, q)\n\u001b[0;32m     15\u001b[0m \u001b[38;5;28mprint\u001b[39m(\u001b[38;5;124mf\u001b[39m\u001b[38;5;124m'\u001b[39m\u001b[38;5;130;01m\\n\u001b[39;00m\u001b[38;5;124mAnswer: \u001b[39m\u001b[38;5;132;01m{\u001b[39;00manswer\u001b[38;5;132;01m}\u001b[39;00m\u001b[38;5;124m'\u001b[39m)\n\u001b[0;32m     16\u001b[0m \u001b[38;5;28mprint\u001b[39m(\u001b[38;5;124mf\u001b[39m\u001b[38;5;124m'\u001b[39m\u001b[38;5;130;01m\\n\u001b[39;00m\u001b[38;5;124m \u001b[39m\u001b[38;5;132;01m{\u001b[39;00m\u001b[38;5;124m\"\u001b[39m\u001b[38;5;124m-\u001b[39m\u001b[38;5;124m\"\u001b[39m\u001b[38;5;250m \u001b[39m\u001b[38;5;241m*\u001b[39m\u001b[38;5;250m \u001b[39m\u001b[38;5;241m50\u001b[39m\u001b[38;5;132;01m}\u001b[39;00m\u001b[38;5;124m \u001b[39m\u001b[38;5;130;01m\\n\u001b[39;00m\u001b[38;5;124m'\u001b[39m)\n",
      "\u001b[1;31mNameError\u001b[0m: name 'ask_and_get_answer' is not defined"
     ]
    }
   ],
   "source": [
    "import time \n",
    "\n",
    "i = 1\n",
    "print('Write Quit or Exit to quit.')\n",
    "while True:\n",
    "    q =input(f'Question #{i}: ')\n",
    "    i = i + 1\n",
    "\n",
    "    if q.lower() in ['quit', 'exit']:\n",
    "        print('Quitting ... bye bye!')\n",
    "        time.sleep(2)\n",
    "        break\n",
    "\n",
    "    answer = ask_and_get_answer(vector_store, q)\n",
    "    print(f'\\nAnswer: {answer}')\n",
    "    print(f'\\n {\"-\" * 50} \\n')"
   ]
  },
  {
   "cell_type": "code",
   "execution_count": 21,
   "id": "5bcccab7-96ae-443b-864d-bb8231b4fd10",
   "metadata": {
    "scrolled": true
   },
   "outputs": [
    {
     "name": "stderr",
     "output_type": "stream",
     "text": [
      "Number of requested results 3 is greater than number of elements in index 0, updating n_results = 0\n"
     ]
    },
    {
     "name": "stdout",
     "output_type": "stream",
     "text": [
      "To determine if the system described by $y(t) = x(2t)$ is linear, we need to check if it satisfies the two properties of linearity: homogeneity and superposition.\n",
      "\n",
      "1. **Homogeneity**:\n",
      "For a system to be linear, it must satisfy the property of homogeneity. This property states that if the input is scaled by a constant factor, then the output is also scaled by the same factor.\n",
      "\n",
      "Let's check if the system described by $y(t) = x(2t)$ satisfies homogeneity:\n",
      "- Let $x_1(t)$ be an input signal and $a$ be a constant.\n",
      "- If we apply $x_2(t) = ax_1(t)$ as the input to the system, the output will be $y_2(t) = x(2t)$ where $x(t) = ax_1(t)$.\n",
      "\n",
      "Now, let's substitute $x_2(t)$ into the system equation:\n",
      "$y_2(t) = x(2t) = a x_1(2t)$\n",
      "\n",
      "Since $y_2(t) = ax_1(2t)$, the system satisfies the property of homogeneity.\n",
      "\n",
      "2. **Superposition**:\n",
      "For a system to be linear, it must satisfy the property of superposition. This property states that the response to the sum of two inputs is the sum of the responses to each input applied separately.\n",
      "\n",
      "Let's check if the system described by $y(t) = x(2t)$ satisfies superposition:\n",
      "- Let $x_1(t)$ and $x_2(t)$ be two input signals.\n",
      "- If we apply $x(t) = x_1(t) + x_2(t)$ as the input to the system, the output will be $y(t) = x(2t) = x_1(2t) + x_2(2t)$.\n",
      "\n",
      "Since $y(t) = x_1(2t) + x_2(2t)$, the system satisfies the property of superposition.\n",
      "\n",
      "Therefore, the system described by $y(t) = x(2t)$ is a linear system since it satisfies both homogeneity and superposition properties.\n"
     ]
    }
   ],
   "source": [
    "## asking with memory\n",
    "chat_history = []\n",
    "question = '$y(t) = x(2t)$. Is it a linear system?'\n",
    "# question = 'what is system and signal'\n",
    "result, chat_history = ask_with_memory(vector_store, question, chat_history)\n",
    "print(result['answer'])\n",
    "# print(chat_history)"
   ]
  },
  {
   "cell_type": "code",
   "execution_count": 23,
   "id": "b4527660-57a5-49e0-a2f2-e1eab49219a7",
   "metadata": {},
   "outputs": [
    {
     "name": "stderr",
     "output_type": "stream",
     "text": [
      "Number of requested results 3 is greater than number of elements in index 0, updating n_results = 0\n"
     ]
    },
    {
     "name": "stdout",
     "output_type": "stream",
     "text": [
      "To determine if the system is time-variant, we need to check if a time shift in the input signal results in a different time shift in the output signal.\n",
      "\n",
      "Given the system: \\( y(t) = x(2t) \\)\n",
      "\n",
      "Let's consider an input signal \\( x_1(t) \\) and its corresponding output \\( y_1(t) \\) when the input is \\( x_1(t) \\).\n",
      "\n",
      "Now, let's consider the same input signal \\( x_1(t) \\) but delayed by \\( t_0 \\) seconds, denoted as \\( x_2(t) = x_1(t - t_0) \\). The corresponding output will be \\( y_2(t) = x(2(t - t_0)) \\).\n",
      "\n",
      "If the system is time-invariant, we should have \\( y_2(t) = y_1(t - t_0) \\) for all \\( t_0 \\).\n",
      "\n",
      "Let's substitute the expressions for \\( y_1(t) \\) and \\( y_2(t) \\) into the equation and simplify to see if the equality holds.\n"
     ]
    }
   ],
   "source": [
    "## asking with memory\n",
    "chat_history = []\n",
    "# $y(t) =x(2t)$. Is it a time-variant system?\n",
    "question = '$y(t) = x(2t)$. Is it a time variant system?'\n",
    "# question = 'what is system and signal'\n",
    "result, chat_history = ask_with_memory(vector_store, question, chat_history)\n",
    "print(result['answer'])\n",
    "# print(chat_history)"
   ]
  },
  {
   "cell_type": "code",
   "execution_count": 22,
   "id": "db981674-b045-4aa4-9bb2-9f042e91b249",
   "metadata": {},
   "outputs": [
    {
     "data": {
      "text/latex": [
       "To determine if the system described by $y(t) = x(2t)$ is linear, we need to check if it satisfies the two properties of linearity: homogeneity and superposition.\n",
       "\n",
       "1. **Homogeneity**:\n",
       "For a system to be linear, it must satisfy the property of homogeneity. This property states that if the input is scaled by a constant factor, then the output is also scaled by the same factor.\n",
       "\n",
       "Let's check if the system described by $y(t) = x(2t)$ satisfies homogeneity:\n",
       "- Let $x_1(t)$ be an input signal and $a$ be a constant.\n",
       "- If we apply $x_2(t) = ax_1(t)$ as the input to the system, the output will be $y_2(t) = x(2t)$ where $x(t) = ax_1(t)$.\n",
       "\n",
       "Now, let's substitute $x_2(t)$ into the system equation:\n",
       "$y_2(t) = x(2t) = a x_1(2t)$\n",
       "\n",
       "Since $y_2(t) = ax_1(2t)$, the system satisfies the property of homogeneity.\n",
       "\n",
       "2. **Superposition**:\n",
       "For a system to be linear, it must satisfy the property of superposition. This property states that the response to the sum of two inputs is the sum of the responses to each input applied separately.\n",
       "\n",
       "Let's check if the system described by $y(t) = x(2t)$ satisfies superposition:\n",
       "- Let $x_1(t)$ and $x_2(t)$ be two input signals.\n",
       "- If we apply $x(t) = x_1(t) + x_2(t)$ as the input to the system, the output will be $y(t) = x(2t) = x_1(2t) + x_2(2t)$.\n",
       "\n",
       "Since $y(t) = x_1(2t) + x_2(2t)$, the system satisfies the property of superposition.\n",
       "\n",
       "Therefore, the system described by $y(t) = x(2t)$ is a linear system since it satisfies both homogeneity and superposition properties."
      ],
      "text/plain": [
       "<IPython.core.display.Latex object>"
      ]
     },
     "metadata": {},
     "output_type": "display_data"
    }
   ],
   "source": [
    "from IPython.display import display, Latex\n",
    "display(Latex(result['answer']))"
   ]
  },
  {
   "cell_type": "code",
   "execution_count": 24,
   "id": "57091a86-65d8-40be-8753-06a37c597d86",
   "metadata": {},
   "outputs": [
    {
     "data": {
      "text/latex": [
       "To determine if the system is time-variant, we need to check if a time shift in the input signal results in a different time shift in the output signal.\n",
       "\n",
       "Given the system: \\( y(t) = x(2t) \\)\n",
       "\n",
       "Let's consider an input signal \\( x_1(t) \\) and its corresponding output \\( y_1(t) \\) when the input is \\( x_1(t) \\).\n",
       "\n",
       "Now, let's consider the same input signal \\( x_1(t) \\) but delayed by \\( t_0 \\) seconds, denoted as \\( x_2(t) = x_1(t - t_0) \\). The corresponding output will be \\( y_2(t) = x(2(t - t_0)) \\).\n",
       "\n",
       "If the system is time-invariant, we should have \\( y_2(t) = y_1(t - t_0) \\) for all \\( t_0 \\).\n",
       "\n",
       "Let's substitute the expressions for \\( y_1(t) \\) and \\( y_2(t) \\) into the equation and simplify to see if the equality holds."
      ],
      "text/plain": [
       "<IPython.core.display.Latex object>"
      ]
     },
     "metadata": {},
     "output_type": "display_data"
    }
   ],
   "source": [
    "from IPython.display import display, Latex\n",
    "display(Latex(result['answer']))"
   ]
  },
  {
   "cell_type": "code",
   "execution_count": null,
   "id": "3926e99b-13f4-4a42-8cf8-61e42f6f4582",
   "metadata": {},
   "outputs": [],
   "source": []
  }
 ],
 "metadata": {
  "kernelspec": {
   "display_name": "Python 3 (ipykernel)",
   "language": "python",
   "name": "python3"
  },
  "language_info": {
   "codemirror_mode": {
    "name": "ipython",
    "version": 3
   },
   "file_extension": ".py",
   "mimetype": "text/x-python",
   "name": "python",
   "nbconvert_exporter": "python",
   "pygments_lexer": "ipython3",
   "version": "3.11.9"
  }
 },
 "nbformat": 4,
 "nbformat_minor": 5
}
