{
 "cells": [
  {
   "cell_type": "code",
   "execution_count": 1,
   "metadata": {},
   "outputs": [
    {
     "data": {
      "text/plain": [
       "True"
      ]
     },
     "execution_count": 1,
     "metadata": {},
     "output_type": "execute_result"
    }
   ],
   "source": [
    "import os \n",
    "from dotenv import load_dotenv, find_dotenv\n",
    "\n",
    "load_dotenv(find_dotenv(), override=True)"
   ]
  },
  {
   "cell_type": "code",
   "execution_count": 2,
   "metadata": {},
   "outputs": [],
   "source": [
    "from langchain.chains import create_history_aware_retriever, create_retrieval_chain\n",
    "from langchain.chains.combine_documents import create_stuff_documents_chain\n",
    "from langchain_chroma import Chroma\n",
    "from langchain_community.chat_message_histories import ChatMessageHistory\n",
    "from langchain_core.chat_history import BaseChatMessageHistory\n",
    "from langchain_core.prompts import ChatPromptTemplate, MessagesPlaceholder\n",
    "from langchain_core.runnables.history import RunnableWithMessageHistory\n",
    "from langchain_openai import ChatOpenAI, OpenAIEmbeddings\n",
    "\n",
    "llm = ChatOpenAI(model=\"gpt-3.5-turbo\", temperature=0)"
   ]
  },
  {
   "cell_type": "code",
   "execution_count": 3,
   "metadata": {},
   "outputs": [],
   "source": [
    "vectorstore = Chroma(persist_directory=\"./new_test\", embedding_function=OpenAIEmbeddings())\n",
    "retriever = vectorstore.as_retriever()"
   ]
  },
  {
   "cell_type": "code",
   "execution_count": 15,
   "metadata": {},
   "outputs": [],
   "source": [
    "### Contextualize question ###\n",
    "contextualize_q_system_prompt = \"\"\"Given a chat history and the latest user question \\\n",
    "which might reference context in the chat history, formulate a standalone question \\\n",
    "which can be understood without the chat history. Do NOT answer the question, \\\n",
    "just reformulate it if needed and otherwise return it as is.\"\"\"\n",
    "contextualize_q_prompt = ChatPromptTemplate.from_messages(\n",
    "    [\n",
    "        (\"system\", contextualize_q_system_prompt),\n",
    "        MessagesPlaceholder(\"chat_history\"),\n",
    "        (\"human\", \"{input}\"),\n",
    "    ]\n",
    ")\n",
    "history_aware_retriever = create_history_aware_retriever(\n",
    "    llm, retriever, contextualize_q_prompt\n",
    ")\n",
    "\n",
    "\n",
    "### Answer question ###\n",
    "# qa_system_prompt = \"\"\"You are an assistant for question-answering tasks. \\\n",
    "# Use the following pieces of retrieved context to answer the question. \\\n",
    "# If you don't know the answer, just say that you don't know. \\\n",
    "# Use three sentences maximum and keep the answer concise.\\\n",
    "\n",
    "# {context}\"\"\"\n",
    "qa_system_prompt = \"\"\" You are a Artificial Intelligence Tutor of Signal ans System subject. \\\n",
    "            You task is to help student to understand Signal ans System subject concept \\\n",
    "            and help them to solve problem step by step. You should not solve the problem directly, \\\n",
    "            rather you help them to learn and solve the problem gradually and also make sure that \\\n",
    "            your response are in latex. If you cannot find the answer from the pieces of context, \\\n",
    "            just say that you don't know, don't try to make up an answer. \\\n",
    "            \n",
    "            {context} \"\"\"\n",
    "qa_prompt = ChatPromptTemplate.from_messages(\n",
    "    [\n",
    "        (\"system\", qa_system_prompt),\n",
    "        MessagesPlaceholder(\"chat_history\"),\n",
    "        (\"human\", \"{input}\"),\n",
    "    ]\n",
    ")\n",
    "question_answer_chain = create_stuff_documents_chain(llm, qa_prompt)\n",
    "\n",
    "rag_chain = create_retrieval_chain(history_aware_retriever, question_answer_chain)\n",
    "\n",
    "\n",
    "### Statefully manage chat history ###\n",
    "store = {}\n",
    "\n",
    "\n",
    "def get_session_history(session_id: str) -> BaseChatMessageHistory:\n",
    "    if session_id not in store:\n",
    "        store[session_id] = ChatMessageHistory()\n",
    "    return store[session_id]\n",
    "\n",
    "\n",
    "conversational_rag_chain = RunnableWithMessageHistory(\n",
    "    rag_chain,\n",
    "    get_session_history,\n",
    "    input_messages_key=\"input\",\n",
    "    history_messages_key=\"chat_history\",\n",
    "    output_messages_key=\"answer\",\n",
    ")"
   ]
  },
  {
   "cell_type": "code",
   "execution_count": 16,
   "metadata": {},
   "outputs": [],
   "source": [
    "result = conversational_rag_chain.invoke(\n",
    "    {\"input\": \"$y(t) = x(2t)$. Is it a linear system?\"},\n",
    "    config={\"configurable\": {\"session_id\": \"abc123\"}},\n",
    ")"
   ]
  },
  {
   "cell_type": "code",
   "execution_count": 5,
   "metadata": {},
   "outputs": [],
   "source": [
    "result = conversational_rag_chain.invoke(\n",
    "    {\"input\": \"What are the condition to saisfy a equation is linear system or not?\"},\n",
    "    config={\"configurable\": {\"session_id\": \"abc123\"}},\n",
    ")"
   ]
  },
  {
   "cell_type": "code",
   "execution_count": 17,
   "metadata": {},
   "outputs": [
    {
     "data": {
      "text/plain": [
       "{'input': '$y(t) = x(2t)$. Is it a linear system?',\n",
       " 'chat_history': [],\n",
       " 'context': [Document(page_content='[\\\\hat{y}(t)=y(t-2)=x(t-4)+x(t)]', metadata={'source': '../mmd/Chapter_01.mmd'}),\n",
       "  Document(page_content='[x(t)=a_{1}x_{1}(t)+a_{2}x_{2}(t)+\\\\cdot\\\\cdot\\\\cdot+a_{m}x_{m}(t)]\\n\\nthen, by virtue of linearity, the response (y(t)) is given by\\n\\n[y(t)=a_{1}y_{1}(t)+a_{2}y_{2}(t)+\\\\cdot\\\\cdot\\\\cdot+a_{m}y_{m}(t)]\\n\\nwhere (y_{k}(t)) is the zero-state response to an input (x_{k}(t)). This apparently trivial observation has profound implications. As we shall see repeatedly in later chapters, it proves extremely useful and opens new avenues for analyzing linear systems.', metadata={'source': '../mmd/Chapter_01.mmd'}),\n",
       "  Document(page_content='is a linear system. The coefficients (a_{i}) and (b_{i}) in this equation can be constants or functions of time. Although here we proved only zero-state linearity, it can be shown that such systems are also zero-input linear and have the decomposition property.\\n\\nDrill 1.12: Linearity of a Differential Equation with Time-Varying Parameters\\n\\nShow that the system described by the following equation is linear:\\n\\n[\\\\frac{dy(t)}{dt}+t^{2}y(t)=(2t+3)x(t)]\\n\\nDrill 1.13: A Nonlinear Differential Equation', metadata={'source': '../mmd/Chapter_01.mmd'}),\n",
       "  Document(page_content='[y(t)=x(t-2)+x(t+2) \\\\tag{26}]', metadata={'source': '../mmd/Chapter_01.mmd'})],\n",
       " 'answer': \"To determine if the system described by $y(t) = x(2t)$ is linear, we need to check if it satisfies the two properties of linearity: superposition and homogeneity.\\n\\n1. Superposition:\\nLet's consider two input signals $x_1(t)$ and $x_2(t)$, and their corresponding outputs $y_1(t)$ and $y_2(t)$:\\n$y_1(t) = x(2t)$ and $y_2(t) = x(2t)$\\n\\nNow, let's find the output for the combined input $x(t) = a_1x_1(t) + a_2x_2(t)$:\\n$y(t) = x(2t) = a_1x_1(2t) + a_2x_2(2t)$\\n\\nIf we compare this with the definition of linearity, we see that the system does not satisfy the superposition property because the output is not equal to the sum of the individual outputs.\\n\\n2. Homogeneity:\\nLet's consider an input signal $x(t)$ and its corresponding output $y(t)$:\\n$y(t) = x(2t)$\\n\\nNow, let's find the output for the scaled input $ax(t)$:\\n$y(t) = ax(2t)$\\n\\nIf we compare this with the definition of homogeneity, we see that the system does not satisfy the homogeneity property because the output is not equal to the scaled version of the original output.\\n\\nTherefore, the system described by $y(t) = x(2t)$ is not a linear system.\"}"
      ]
     },
     "execution_count": 17,
     "metadata": {},
     "output_type": "execute_result"
    }
   ],
   "source": [
    "result"
   ]
  },
  {
   "cell_type": "code",
   "execution_count": 18,
   "metadata": {},
   "outputs": [
    {
     "data": {
      "text/plain": [
       "\"To determine if the system described by $y(t) = x(2t)$ is linear, we need to check if it satisfies the two properties of linearity: superposition and homogeneity.\\n\\n1. Superposition:\\nLet's consider two input signals $x_1(t)$ and $x_2(t)$, and their corresponding outputs $y_1(t)$ and $y_2(t)$:\\n$y_1(t) = x(2t)$ and $y_2(t) = x(2t)$\\n\\nNow, let's find the output for the combined input $x(t) = a_1x_1(t) + a_2x_2(t)$:\\n$y(t) = x(2t) = a_1x_1(2t) + a_2x_2(2t)$\\n\\nIf we compare this with the definition of linearity, we see that the system does not satisfy the superposition property because the output is not equal to the sum of the individual outputs.\\n\\n2. Homogeneity:\\nLet's consider an input signal $x(t)$ and its corresponding output $y(t)$:\\n$y(t) = x(2t)$\\n\\nNow, let's find the output for the scaled input $ax(t)$:\\n$y(t) = ax(2t)$\\n\\nIf we compare this with the definition of homogeneity, we see that the system does not satisfy the homogeneity property because the output is not equal to the scaled version of the original output.\\n\\nTherefore, the system described by $y(t) = x(2t)$ is not a linear system.\""
      ]
     },
     "execution_count": 18,
     "metadata": {},
     "output_type": "execute_result"
    }
   ],
   "source": [
    "result['answer']"
   ]
  },
  {
   "cell_type": "code",
   "execution_count": 19,
   "metadata": {},
   "outputs": [
    {
     "data": {
      "text/markdown": [
       "To determine if the system described by $y(t) = x(2t)$ is linear, we need to check if it satisfies the two properties of linearity: superposition and homogeneity.\n",
       "\n",
       "1. Superposition:\n",
       "Let's consider two input signals $x_1(t)$ and $x_2(t)$, and their corresponding outputs $y_1(t)$ and $y_2(t)$:\n",
       "$y_1(t) = x(2t)$ and $y_2(t) = x(2t)$\n",
       "\n",
       "Now, let's find the output for the combined input $x(t) = a_1x_1(t) + a_2x_2(t)$:\n",
       "$y(t) = x(2t) = a_1x_1(2t) + a_2x_2(2t)$\n",
       "\n",
       "If we compare this with the definition of linearity, we see that the system does not satisfy the superposition property because the output is not equal to the sum of the individual outputs.\n",
       "\n",
       "2. Homogeneity:\n",
       "Let's consider an input signal $x(t)$ and its corresponding output $y(t)$:\n",
       "$y(t) = x(2t)$\n",
       "\n",
       "Now, let's find the output for the scaled input $ax(t)$:\n",
       "$y(t) = ax(2t)$\n",
       "\n",
       "If we compare this with the definition of homogeneity, we see that the system does not satisfy the homogeneity property because the output is not equal to the scaled version of the original output.\n",
       "\n",
       "Therefore, the system described by $y(t) = x(2t)$ is not a linear system."
      ],
      "text/plain": [
       "<IPython.core.display.Markdown object>"
      ]
     },
     "metadata": {},
     "output_type": "display_data"
    }
   ],
   "source": [
    "from IPython.display import display, Latex, Markdown\n",
    "display(Markdown(result['answer']))"
   ]
  },
  {
   "cell_type": "code",
   "execution_count": 13,
   "metadata": {},
   "outputs": [],
   "source": [
    "t = \"The sinusoidal signal equation is given by $\\( x(t) = \\\\sum_{n=1}^{\\\\infty} C_{n} \\\\cos(\\\\omega_{n}t + \\\\theta_{n}) \\\\)$.\\nThe power of the signal can be calculated using the formula \\\\( P_{x} = \\\\frac{1}{2} \\\\sum_{n=1}^{\\\\infty} {C_{n}}^{2} \\\\).\\nIf the signal also has a dc term, the power formula becomes \\\\( P_{x} = C_{0}^{2} + \\\\frac{1}{2} \\\\sum_{n=1}^{\\\\infty} {C_{n}}^{2} \\\\).\""
   ]
  },
  {
   "cell_type": "code",
   "execution_count": 14,
   "metadata": {},
   "outputs": [
    {
     "data": {
      "text/markdown": [
       "The sinusoidal signal equation is given by $\\( x(t) = \\sum_{n=1}^{\\infty} C_{n} \\cos(\\omega_{n}t + \\theta_{n}) \\)$.\n",
       "The power of the signal can be calculated using the formula \\( P_{x} = \\frac{1}{2} \\sum_{n=1}^{\\infty} {C_{n}}^{2} \\).\n",
       "If the signal also has a dc term, the power formula becomes \\( P_{x} = C_{0}^{2} + \\frac{1}{2} \\sum_{n=1}^{\\infty} {C_{n}}^{2} \\)."
      ],
      "text/plain": [
       "<IPython.core.display.Markdown object>"
      ]
     },
     "metadata": {},
     "output_type": "display_data"
    }
   ],
   "source": [
    "from IPython.display import display, Latex, Markdown\n",
    "display(Markdown(t))"
   ]
  },
  {
   "cell_type": "code",
   "execution_count": null,
   "metadata": {},
   "outputs": [],
   "source": []
  }
 ],
 "metadata": {
  "kernelspec": {
   "display_name": "Python 3",
   "language": "python",
   "name": "python3"
  },
  "language_info": {
   "codemirror_mode": {
    "name": "ipython",
    "version": 3
   },
   "file_extension": ".py",
   "mimetype": "text/x-python",
   "name": "python",
   "nbconvert_exporter": "python",
   "pygments_lexer": "ipython3",
   "version": "3.11.9"
  }
 },
 "nbformat": 4,
 "nbformat_minor": 2
}
